{
 "cells": [
  {
   "cell_type": "markdown",
   "id": "3cee2426",
   "metadata": {},
   "source": [
    "Write a function that accepts a string and returns a mapping (a dictionary or dictionary-like structure) \n",
    "that has words as the keys and the number of times each word was seen as the values.\n",
    "\n",
    "Your function should work like this:\n",
    "\n",
    ">>> count_words(\"oh what a day what a lovely day\")\n",
    "{'oh': 1, 'what': 2, 'a': 2, 'day': 2, 'lovely': 1}\n",
    ">>> count_words(\"don't stop believing\")\n",
    "{\"don't\": 1, 'stop': 1, 'believing': 1}\n",
    "\n",
    "Try to cover as many corner cases possible :)"
   ]
  },
  {
   "cell_type": "code",
   "execution_count": 1,
   "id": "e76bdcb3",
   "metadata": {},
   "outputs": [
    {
     "name": "stdout",
     "output_type": "stream",
     "text": [
      "Please enter your sentence: test test hh hh\n",
      "{'test': 2, 'hh': 2}\n"
     ]
    }
   ],
   "source": [
    "str_word = input('Please enter your sentence: ')\n",
    "keys = str_word.split(\" \")\n",
    "D = dict()\n",
    "def count_words(str_word):\n",
    "    for word in keys:\n",
    "        if word in D:\n",
    "            D[word]+=1\n",
    "        else:\n",
    "            D[word]=1\n",
    "    return D\n",
    "# Print the contents of dictionary\n",
    "print(count_words(str_word))"
   ]
  },
  {
   "cell_type": "code",
   "execution_count": null,
   "id": "64d5c762",
   "metadata": {},
   "outputs": [],
   "source": []
  }
 ],
 "metadata": {
  "kernelspec": {
   "display_name": "Python 3",
   "language": "python",
   "name": "python3"
  },
  "language_info": {
   "codemirror_mode": {
    "name": "ipython",
    "version": 3
   },
   "file_extension": ".py",
   "mimetype": "text/x-python",
   "name": "python",
   "nbconvert_exporter": "python",
   "pygments_lexer": "ipython3",
   "version": "3.8.10"
  }
 },
 "nbformat": 4,
 "nbformat_minor": 5
}
